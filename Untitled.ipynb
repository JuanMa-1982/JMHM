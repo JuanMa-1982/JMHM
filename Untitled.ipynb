{
 "cells": [
  {
   "cell_type": "markdown",
   "id": "24c0b2b6-cfe5-4453-a11e-d245025e23e0",
   "metadata": {
    "tags": []
   },
   "source": [
    "# My Jupyter Notebook on IBM Watson Studio"
   ]
  },
  {
   "cell_type": "markdown",
   "id": "3be73189-5672-4b98-ac6f-3818e1f64ecc",
   "metadata": {},
   "source": [
    "**Juan Martin Hernandez Monroy**"
   ]
  },
  {
   "cell_type": "markdown",
   "id": "71e8061e-96e1-49e4-9a11-b714269616d5",
   "metadata": {},
   "source": [
    "Industrial Engineer"
   ]
  },
  {
   "cell_type": "markdown",
   "id": "32d7e992-cf00-44ed-ad3b-5ab60c0d9763",
   "metadata": {},
   "source": [
    "*I am interested in learning data science, to grow professionally*"
   ]
  },
  {
   "cell_type": "markdown",
   "id": "c8b3a09b-3f94-43f8-ae85-89148471b1b6",
   "metadata": {},
   "source": [
    "### The following code will do a sum of 2 numbers ###"
   ]
  },
  {
   "cell_type": "code",
   "execution_count": 2,
   "id": "43247df9-bae7-4893-94e0-86303cd18e27",
   "metadata": {},
   "outputs": [
    {
     "data": {
      "text/plain": [
       "2"
      ]
     },
     "execution_count": 2,
     "metadata": {},
     "output_type": "execute_result"
    }
   ],
   "source": [
    "1+1"
   ]
  },
  {
   "cell_type": "markdown",
   "id": "634fc513-ceef-41da-987a-3866a30779ae",
   "metadata": {},
   "source": [
    "~~We are learning~~"
   ]
  },
  {
   "cell_type": "markdown",
   "id": "8d493dfe-07b4-4291-a9ae-62e745424640",
   "metadata": {},
   "source": [
    "1. Uno"
   ]
  },
  {
   "cell_type": "markdown",
   "id": "35bfdb69-b849-4e45-9693-5b747712192b",
   "metadata": {},
   "source": [
    "2. Dos"
   ]
  },
  {
   "cell_type": "markdown",
   "id": "613493fb-ac72-4d95-b605-6d3d9a602807",
   "metadata": {},
   "source": [
    "3. Tres"
   ]
  },
  {
   "cell_type": "markdown",
   "id": "2219fd83-8e16-4107-8481-94a3fc64eb6a",
   "metadata": {},
   "source": [
    "Inline-style:![alt text](https://github.com/adam-p/markdown-here/raw/master/src/common/images/icon48.png \"Logo Title Text 1\")"
   ]
  }
 ],
 "metadata": {
  "kernelspec": {
   "display_name": "Python",
   "language": "python",
   "name": "conda-env-python-py"
  },
  "language_info": {
   "codemirror_mode": {
    "name": "ipython",
    "version": 3
   },
   "file_extension": ".py",
   "mimetype": "text/x-python",
   "name": "python",
   "nbconvert_exporter": "python",
   "pygments_lexer": "ipython3",
   "version": "3.7.12"
  }
 },
 "nbformat": 4,
 "nbformat_minor": 5
}
